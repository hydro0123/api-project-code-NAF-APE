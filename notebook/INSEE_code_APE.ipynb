{
 "cells": [
  {
   "cell_type": "markdown",
   "metadata": {},
   "source": [
    "## Access to raw files"
   ]
  },
  {
   "cell_type": "code",
   "execution_count": 7,
   "metadata": {},
   "outputs": [],
   "source": [
    "import pandas as pd\n",
    "import os\n",
    "\n",
    "files_code_APE=os.path.abspath(\"INSEE_code_APE.ipynb\")\n",
    "dossier_notebook = os.path.dirname(files_code_APE)\n",
    "dossier_project = os.path.dirname(dossier_notebook)\n",
    "dossier_data=os.path.join(dossier_project,\"data\")\n",
    "files_label=os.path.join(dossier_data,\"int_courts_naf_rev_2.xls\")\n",
    "files_niv=os.path.join(dossier_data,\"naf2008_5_niveaux.xls\")\n",
    "\n",
    "# To import the 2 documents of INSEE; one with the APE Codewith different Level (5 Levels) \n",
    "# and the other document for the signification of each APE Code\n",
    "liste_niv=pd.read_excel(files_niv,dtype=str)\n",
    "liste_niv_avec_int=pd.read_excel(files_label)\n"
   ]
  },
  {
   "cell_type": "markdown",
   "metadata": {},
   "source": [
    "## Data cleaning"
   ]
  },
  {
   "cell_type": "code",
   "execution_count": 3,
   "metadata": {},
   "outputs": [],
   "source": [
    "# To remove lines we dont need\n",
    "liste_niv_avec_int=liste_niv_avec_int.dropna(axis=0)\n",
    "\n",
    "# To keep columns we need\n",
    "liste_niv_avec_int_sub=liste_niv_avec_int[[\" Intitulés de la  NAF rév. 2, version finale \",\"Code\"]]\n",
    "\n",
    "# To change the name to something more simple\n",
    "liste_niv_avec_int_sub=liste_niv_avec_int_sub.rename(columns={\" Intitulés de la  NAF rév. 2, version finale \":\"Label\"})\n",
    "\n",
    "# To remove the word SECTION because we only get Code with letter\n",
    "# For exemple we dont want the \"SECTION A\" we just need the \"A\" for the APE Code\n",
    "liste_niv_avec_int_sub=liste_niv_avec_int_sub.map(lambda x: x[-1:] if \"SECTION\" in x else x)\n",
    "\n"
   ]
  },
  {
   "cell_type": "markdown",
   "metadata": {},
   "source": [
    "## files Merging "
   ]
  },
  {
   "cell_type": "code",
   "execution_count": 4,
   "metadata": {},
   "outputs": [],
   "source": [
    "# Create a new table with the 2 others with a merge on the APE Code NIV5 (NIV5=Level5)\n",
    "# we also change the name of the Label into Label NIV5 because its the Label only for the NIV5 (Level5)\n",
    "Merge_niv5=pd.merge(liste_niv,liste_niv_avec_int_sub,how=\"left\",left_on=\"NIV5\",right_on=\"Code\").rename(columns={\"Label\":\"Label NIV5\"})\n",
    "\n",
    "# delete the Code Columns of the second document because we already got APE Code on the first document \n",
    "del Merge_niv5[\"Code\"]\n",
    "\n",
    "# We repeat that for the APE Code Level 4 / 3 / 2 / 1\n",
    "Merge_niv4=pd.merge(Merge_niv5,liste_niv_avec_int_sub[[\"Label\",\"Code\"]],how=\"left\",left_on=\"NIV4\",right_on=\"Code\").rename(columns={\"Label\":\"Label NIV4\"})\n",
    "del Merge_niv4[\"Code\"]\n",
    "Merge_niv3=pd.merge(Merge_niv4,liste_niv_avec_int_sub[[\"Label\",\"Code\"]],how=\"left\",left_on=\"NIV3\",right_on=\"Code\").rename(columns={\"Label\":\"Label NIV3\"})\n",
    "del Merge_niv3[\"Code\"]\n",
    "Merge_niv2=pd.merge(Merge_niv3,liste_niv_avec_int_sub[[\"Label\",\"Code\"]],how=\"left\",left_on=\"NIV2\",right_on=\"Code\").rename(columns={\"Label\":\"Label NIV2\"})\n",
    "del Merge_niv2[\"Code\"]\n",
    "Merge_niv1=pd.merge(Merge_niv2,liste_niv_avec_int_sub[[\"Label\",\"Code\"]],how=\"left\",left_on=\"NIV1\",right_on=\"Code\").rename(columns={\"Label\":\"Label NIV1\"})\n",
    "del Merge_niv1[\"Code\"]\n",
    "\n",
    "# set the index of the table with the APE Code of NIV5 (Level5)\n",
    "Merge_niv1=Merge_niv1.set_index(\"NIV5\")\n"
   ]
  },
  {
   "cell_type": "markdown",
   "metadata": {},
   "source": [
    "## APE Code Function "
   ]
  },
  {
   "cell_type": "code",
   "execution_count": 5,
   "metadata": {},
   "outputs": [
    {
     "data": {
      "text/plain": [
       "'ACTIVITÉS EXTRA-TERRITORIALES'"
      ]
     },
     "execution_count": 5,
     "metadata": {},
     "output_type": "execute_result"
    }
   ],
   "source": [
    "# Function to find the Label of an APE Code with the choice of wich Level of Label\n",
    "def Code_APE_Label(Code,NIV):\n",
    "    NIV=\"Label NIV\"+str(NIV)\n",
    "    return(Merge_niv1.loc[Code,NIV])\n",
    "Code_APE_Label(\"99.00Z\",1)"
   ]
  },
  {
   "cell_type": "markdown",
   "metadata": {},
   "source": [
    "## Saving the new file"
   ]
  },
  {
   "cell_type": "code",
   "execution_count": 6,
   "metadata": {},
   "outputs": [],
   "source": [
    "# Save the table as \"APE_Code.xlsx\"\n",
    "Merge_niv1.to_excel(\"APE_Code.xlsx\")"
   ]
  }
 ],
 "metadata": {
  "kernelspec": {
   "display_name": "Python 3",
   "language": "python",
   "name": "python3"
  },
  "language_info": {
   "codemirror_mode": {
    "name": "ipython",
    "version": 3
   },
   "file_extension": ".py",
   "mimetype": "text/x-python",
   "name": "python",
   "nbconvert_exporter": "python",
   "pygments_lexer": "ipython3",
   "version": "3.12.4"
  }
 },
 "nbformat": 4,
 "nbformat_minor": 2
}
